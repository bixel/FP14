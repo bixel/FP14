{
 "cells": [
  {
   "cell_type": "code",
   "execution_count": 15,
   "metadata": {
    "collapsed": true
   },
   "outputs": [],
   "source": [
    "import numpy as np\n",
    "from textable import table"
   ]
  },
  {
   "cell_type": "code",
   "execution_count": 16,
   "metadata": {
    "collapsed": false
   },
   "outputs": [],
   "source": [
    "def _one_atom(arrayn, name):\n",
    "    varFirst = True\n",
    "    listHKL = []\n",
    "    listM = []\n",
    "    for h in range(1, 10):\n",
    "        for k in range(h + 1):\n",
    "            for l in range(k + 1):\n",
    "                fltStruct = 0\n",
    "                strOut = 'build/hkl_one/{0}.dat'.format(name)\n",
    "                for entry in array:\n",
    "                    exponent = entry[0]*h + entry[1]*k + entry[2]*l\n",
    "                    fltStruct += np.exp(-2j*np.pi*exponent)\n",
    "                if abs(fltStruct) >= 0.001:\n",
    "                    fltM = h**2 + k**2 + l**2\n",
    "                    if varFirst:\n",
    "                        fltFirst = fltM\n",
    "                        varFirst = False\n",
    "                    if fltM not in listM and np.sqrt(fltM / float(fltFirst)) < 6:\n",
    "                        listM.append(fltM)\n",
    "                        listHKL.append([h, k, l, fltM, np.sqrt(fltM / float(fltFirst)), 0])\n",
    "    with open(\n",
    "            strOut, 'w'\n",
    "            ) as f:\n",
    "        for row in listHKL:\n",
    "            for entry in row:\n",
    "                f.write('{0}\\t'.format(entry))\n",
    "            f.write('\\n')"
   ]
  },
  {
   "cell_type": "code",
   "execution_count": 27,
   "metadata": {
    "collapsed": false
   },
   "outputs": [],
   "source": [
    "def _two_atoms(array, name, arrPositive, arrNegative, listNumber, listPositive, listNegative, inv):\n",
    "    for idxPos, listpos in enumerate(arrPositive):\n",
    "        for idxNeg, listneg in enumerate(arrNegative):\n",
    "            varFirst = True\n",
    "            varSkip = False\n",
    "            listHKL = []\n",
    "            listM = []\n",
    "            for idxList, pos, neg, number in zip(range(len(listpos)), listpos, listneg, listNumber):\n",
    "                listM.append([])\n",
    "                if neg == 0 or pos == 0:\n",
    "                    continue\n",
    "                for h in range(1, 10):\n",
    "                    for k in range(h + 1):\n",
    "                        for l in range(k + 1):\n",
    "                            fltStruct = 0\n",
    "                            if inv:\n",
    "                                strOut = 'build/hkl_two/{0}_{1}_{2}.dat'.format(\n",
    "                                    name, listNegative[idxNeg], listPositive[idxPos]\n",
    "                                    )\n",
    "                                for arrNumber, arrIdx in enumerate(array):\n",
    "                                    for entry in arrIdx:\n",
    "                                        exponent = entry[0]*h + entry[1]*k + entry[2]*l\n",
    "                                        if arrNumber == 0:\n",
    "                                            fltStruct += neg * np.exp(-2j*np.pi*exponent)\n",
    "                                        else:\n",
    "                                            fltStruct += pos * np.exp(-2j*np.pi*exponent)\n",
    "                            else:\n",
    "                                strOut = 'build/hkl_two/{0}_{1}_{2}.dat'.format(\n",
    "                                    name, listPositive[idxPos], listNegative[idxNeg]\n",
    "                                    )\n",
    "                                for arrNumber, arrIdx in enumerate(array):\n",
    "                                    for entry in arrIdx:\n",
    "                                        exponent = entry[0]*h + entry[1]*k + entry[2]*l\n",
    "                                        if arrNumber == 0:\n",
    "                                            fltStruct += pos * np.exp(-2j*np.pi*exponent)\n",
    "                                        else:\n",
    "                                            fltStruct += neg * np.exp(-2j*np.pi*exponent)\n",
    "                            if abs(fltStruct) != 0:\n",
    "                                fltM = h**2 + k**2 + l**2\n",
    "                                if varFirst:\n",
    "                                    fltFirst = fltM\n",
    "                                    varFirst = False\n",
    "                                if fltM not in listM[idxList] and np.sqrt(fltM / fltFirst) < 6:\n",
    "                                    listM[idxList].append(fltM)\n",
    "                                    listHKL.append([h, k, l, fltM, np.sqrt(fltM), number])\n",
    "                if len(listHKL) < 25:\n",
    "                    varSkip = True\n",
    "                    break\n",
    "            minimumFltM = 100\n",
    "            for line in listHKL:\n",
    "                if line[3] < minimumFltM:\n",
    "                    minimumFltM = line[3]\n",
    "            for line in listHKL:\n",
    "                line[3] = line[3] / np.sqrt(minimumFltM)\n",
    "                \n",
    "            if varSkip:\n",
    "                continue\n",
    "            with open(\n",
    "                    strOut, 'w'\n",
    "                    ) as f:\n",
    "                for row in listHKL:\n",
    "                    for entry in row:\n",
    "                        f.write('{0}\\t'.format(entry))\n",
    "                    f.write('\\n')"
   ]
  },
  {
   "cell_type": "code",
   "execution_count": 4,
   "metadata": {
    "collapsed": true
   },
   "outputs": [],
   "source": [
    "# Two atoms but same base"
   ]
  },
  {
   "cell_type": "code",
   "execution_count": 5,
   "metadata": {
    "collapsed": true
   },
   "outputs": [],
   "source": [
    "# Load vector data"
   ]
  },
  {
   "cell_type": "code",
   "execution_count": 18,
   "metadata": {
    "collapsed": false
   },
   "outputs": [],
   "source": [
    "# SC\n",
    "arrSC = np.array([np.genfromtxt('raw/vec_sc.dat')])\n",
    "# BCC\n",
    "arrBCC = np.genfromtxt('raw/vec_bcc.dat')\n",
    "# FCC\n",
    "arrFCC = np.genfromtxt('raw/vec_fcc.dat')\n",
    "# Diamant\n",
    "arrDia = np.genfromtxt('raw/vec_diamant.dat')\n",
    "# Zinkblende\n",
    "arrZinkA = np.genfromtxt('raw/vec_zinkblende_a.dat')\n",
    "arrZinkB = np.genfromtxt('raw/vec_zinkblende_b.dat')\n",
    "arrZink = np.array([arrZinkA, arrZinkB])\n",
    "arrZinkInv = np.array([arrZinkB, arrZinkA])\n",
    "arrZinkOne = np.append(arrZinkB, arrZinkA, axis=0)\n",
    "# Steinsalz\n",
    "arrSteinA = np.genfromtxt('raw/vec_steinsalz_a.dat')\n",
    "arrSteinB = np.genfromtxt('raw/vec_steinsalz_b.dat')\n",
    "arrStein = np.array([arrSteinA, arrSteinB])\n",
    "arrSteinInv = np.array([arrSteinB, arrSteinA])\n",
    "arrSteinOne = np.append(arrSteinB, arrSteinA, axis=0)\n",
    "# Fluorid\n",
    "arrFluoridA = np.genfromtxt('raw/vec_fluorid_a.dat')\n",
    "arrFluoridB = np.genfromtxt('raw/vec_fluorid_b.dat')\n",
    "arrFluorid = np.array([arrFluoridA, arrFluoridB])\n",
    "arrFluoridInv = np.array([arrFluoridB, arrFluoridA])\n",
    "arrFluoridOne = np.append(arrFluoridB, arrFluoridA, axis=0)\n",
    "# Caesium Chlorid\n",
    "arrCaesiumA = np.array([np.genfromtxt('raw/vec_caesium_a.dat')])\n",
    "arrCaesiumB = np.array([np.genfromtxt('raw/vec_caesium_b.dat')])\n",
    "arrCaesium = np.array([arrCaesiumA, arrCaesiumB])\n",
    "arrCaesiumInv = np.array([arrCaesiumB, arrCaesiumA])\n",
    "arrCaesiumOne = np.append(arrCaesiumB, arrCaesiumA, axis=0)"
   ]
  },
  {
   "cell_type": "code",
   "execution_count": 7,
   "metadata": {
    "collapsed": true
   },
   "outputs": [],
   "source": [
    "# Load ions"
   ]
  },
  {
   "cell_type": "code",
   "execution_count": 19,
   "metadata": {
    "collapsed": false
   },
   "outputs": [],
   "source": [
    "arrNegative = np.genfromtxt('raw/form_negative.dat')\n",
    "arrPositive = np.genfromtxt('raw/form_positive.dat')"
   ]
  },
  {
   "cell_type": "code",
   "execution_count": 9,
   "metadata": {
    "collapsed": false
   },
   "outputs": [],
   "source": [
    "arrIons = np.append(\n",
    "    arrNegative, arrPositive, axis=0\n",
    "    )\n",
    "arrCombined = np.append(\n",
    "    np.array([[\n",
    "            0.00, 0.05, 0.10, 0.15, 0.20, 0.25, \n",
    "            0.30, 0.35, 0.40, 0.50, 0.60, 0.70\n",
    "        ]]),\n",
    "    arrIons, axis=0\n",
    ")\n",
    "listNames = [r'$\\frac{\\sin{\\Theta}}{\\lambda}\\,/\\,\\si{1\\per\\angstrom}$' ,r'$F^-$', r'$Cl^-$', r'$J^-$', r'$K^+$', r'$Ca^{2+}$', r'$Cu^+$', r'$Cs^+$']\n",
    "\n",
    "with open('build/tex/formfaktoren.tex', 'w') as f:\n",
    "    f.write(\n",
    "        table(\n",
    "            listNames,\n",
    "            arrCombined\n",
    "        )\n",
    "    )"
   ]
  },
  {
   "cell_type": "code",
   "execution_count": 10,
   "metadata": {
    "collapsed": true
   },
   "outputs": [],
   "source": [
    "# Lists for iteration"
   ]
  },
  {
   "cell_type": "code",
   "execution_count": 20,
   "metadata": {
    "collapsed": false
   },
   "outputs": [],
   "source": [
    "listArrOne = [\n",
    "    arrSC, arrBCC, arrFCC, arrDia\n",
    "]\n",
    "listArrTwo = [\n",
    "    arrStein, arrFluorid, arrZink, arrCaesium,\n",
    "    arrSteinInv, arrFluoridInv, arrZinkInv, arrCaesiumInv\n",
    "]\n",
    "listArrNameOne = [\n",
    "    'SC', 'BCC', 'FCC', 'Diamant', \n",
    "    'Steinsalz', 'Fluorid', 'Zinkblende', 'Caesiumstruktur'\n",
    "]\n",
    "listArrNameTwo = [\n",
    "    'Steinsalz', 'Fluorid', 'Zinkblende', 'Caesiumstruktur',\n",
    "    'Steinsalz', 'Fluorid', 'Zinkblende', 'Caesiumstruktur'\n",
    "]\n",
    "listNumber = [\n",
    "    '0', '5', '10', '15', '20', '25', \n",
    "    '30', '35', '40', '50', '60', '70'\n",
    "]\n",
    "listNegative = [\n",
    "    'Fluor', 'Chlor', 'Jod'\n",
    "]\n",
    "listPositive = [\n",
    "    'Kalium', 'Calcium', 'Kupfer', 'Caesium'\n",
    "]"
   ]
  },
  {
   "cell_type": "code",
   "execution_count": 12,
   "metadata": {
    "collapsed": true
   },
   "outputs": [],
   "source": [
    "# Calculate files"
   ]
  },
  {
   "cell_type": "code",
   "execution_count": 28,
   "metadata": {
    "collapsed": false
   },
   "outputs": [],
   "source": [
    "for array, name in zip(listArrOne, listArrNameOne):\n",
    "    _one_atom(array, name)\n",
    "       \n",
    "for idx, array, name in zip(range(len(listArrTwo)), listArrTwo, listArrNameTwo):\n",
    "    if idx >= len(listArrTwo) / 2:\n",
    "        _two_atoms(array, name, arrPositive, arrNegative, listNumber, listPositive, listNegative, inv=True)\n",
    "    else:\n",
    "        _two_atoms(array, name, arrPositive, arrNegative, listNumber, listPositive, listNegative, inv=False)"
   ]
  },
  {
   "cell_type": "code",
   "execution_count": 14,
   "metadata": {
    "collapsed": false
   },
   "outputs": [],
   "source": [
    "#_two_atoms(listArrTwo[3], listArrNameTwo[3], arrPositive, arrNegative, listNumber, listPositive, listNegative, inv=False)"
   ]
  }
 ],
 "metadata": {
  "kernelspec": {
   "display_name": "Python 3",
   "language": "python",
   "name": "python3"
  },
  "language_info": {
   "codemirror_mode": {
    "name": "ipython",
    "version": 3
   },
   "file_extension": ".py",
   "mimetype": "text/x-python",
   "name": "python",
   "nbconvert_exporter": "python",
   "pygments_lexer": "ipython3",
   "version": "3.5.1"
  }
 },
 "nbformat": 4,
 "nbformat_minor": 0
}
