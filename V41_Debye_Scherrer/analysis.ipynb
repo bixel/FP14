{
 "cells": [
  {
   "cell_type": "code",
   "execution_count": 1,
   "metadata": {
    "collapsed": false
   },
   "outputs": [],
   "source": [
    "# -*- encoding: utf-8 -*-\n",
    "from collections import namedtuple\n",
    "import numpy as np\n",
    "import matplotlib.pyplot as plt\n",
    "import matplotlib.gridspec as gridspec\n",
    "import scipy.ndimage as ndimage\n",
    "import scipy.ndimage.filters as filters\n",
    "import scipy.optimize as optimize\n",
    "import uncertainties\n",
    "from uncertainties import ufloat, umath\n",
    "import uncertainties.unumpy as unp\n",
    "from uncertainties.unumpy import nominal_values as noms\n",
    "from textable import table\n",
    "import glob as glob\n",
    "\n",
    "# bypass UsageError when there is no GUI\n",
    "try:\n",
    "    %matplotlib inline\n",
    "except:\n",
    "    pass\n",
    "\n",
    "plt.rcParams['image.cmap'] = 'viridis'\n",
    "plt.rcParams['figure.figsize'] = (16, 10)\n",
    "plt.rcParams['font.size'] = 16\n",
    "plt.style.use('ggplot')"
   ]
  },
  {
   "cell_type": "code",
   "execution_count": 2,
   "metadata": {
    "collapsed": true
   },
   "outputs": [],
   "source": [
    "# Constants"
   ]
  },
  {
   "cell_type": "code",
   "execution_count": 3,
   "metadata": {
    "collapsed": true
   },
   "outputs": [],
   "source": [
    "DELTA_LENGTH = 0.01 * 1e-3\n",
    "RADIUS_HOLE = ufloat(9 * 1e-3, DELTA_LENGTH) / 2\n",
    "RADIUS = 57.3 * 1e-3\n",
    "LAMBDA_1 = 1.54093 * 1e-10\n",
    "LAMBDA_2 = 1.54478 * 1e-10\n",
    "LAMBDA = 1.5417 * 1e-10"
   ]
  },
  {
   "cell_type": "code",
   "execution_count": 4,
   "metadata": {
    "collapsed": true
   },
   "outputs": [],
   "source": [
    "# Fit Function"
   ]
  },
  {
   "cell_type": "code",
   "execution_count": 5,
   "metadata": {
    "collapsed": true
   },
   "outputs": [],
   "source": [
    "def func(x, m, b):\n",
    "    return m * x + b"
   ]
  },
  {
   "cell_type": "code",
   "execution_count": 6,
   "metadata": {
    "collapsed": true
   },
   "outputs": [],
   "source": [
    "# Calculate Function"
   ]
  },
  {
   "cell_type": "code",
   "execution_count": 7,
   "metadata": {
    "collapsed": true
   },
   "outputs": [],
   "source": [
    "def _calculate_difference(array, arrayd, arraynorm):\n",
    "    # Unused lists, but maybe for later \n",
    "    listMMin = []\n",
    "    listMin = []\n",
    "    listHKL = []\n",
    "    listM = []\n",
    "    # Used lists\n",
    "    listMMinN = []\n",
    "    listMinN = []\n",
    "    listHKLN = []\n",
    "    listMN = []\n",
    "    # Find unique D Values\n",
    "    arrUniqueD = np.unique(array['d'])\n",
    "    # Loop over all d values\n",
    "    for idxd, dnorm, d in zip(range(len(arrayd)), arraynorm, arrayd):\n",
    "        # Value of d to compare with the values of the formfactor table\n",
    "        perD = 1 / (2 * d.nominal_value * 1e8)\n",
    "        # Find best matching perD values\n",
    "        intDBest = 0\n",
    "        fltAbsMin = 100\n",
    "        for perd in arrUniqueD:\n",
    "            if abs(perd - perD) < fltAbsMin:\n",
    "                fltAbsMin = abs(perd - perD)\n",
    "                intDBest = perd\n",
    "        # Get rows to use for comparison\n",
    "        arrayM = array[array['d'] == intDBest]\n",
    "        \n",
    "        # Compare values\n",
    "        # Unused\n",
    "        fltDeltaMin = 100\n",
    "        idxMMin = 0\n",
    "        varHKL = []\n",
    "        # Used\n",
    "        idxMMinN = 0\n",
    "        fltDeltaMinN = 100\n",
    "        varHKLN = []\n",
    "        # Loop over all rows for comparison\n",
    "        for idxm, dm in enumerate(arrayM['deltam']):\n",
    "            # difference in percent\n",
    "            delta = abs(dm - dnorm) / dm\n",
    "            # If delta is smaller then the minumum and the combination of h,k,l is not used\n",
    "            if delta < fltDeltaMinN:\n",
    "                if [arrayM[idxm]['h'], arrayM[idxm]['k'], arrayM[idxm]['l']] not in listHKLN:\n",
    "                    fltDeltaMinN = delta\n",
    "                    idxMMinN = idxm\n",
    "                    mN = dm\n",
    "                    varHKLN = [arrayM[idxm]['h'], arrayM[idxm]['k'], arrayM[idxm]['l']]\n",
    "            # If delta is just smaller\n",
    "            if delta < fltDeltaMin:\n",
    "                fltDeltaMin = delta\n",
    "                idxMMin = idxm\n",
    "                m = dm\n",
    "                varHKL = [array[idxMMin]['h'], array[idxMMin]['k'], array[idxMMin]['l']]\n",
    "        # Unused\n",
    "        listMin.append(fltDeltaMin * 100)\n",
    "        listMMin.append(idxMMin)\n",
    "        listHKL.append(varHKL)\n",
    "        listM.append(m)\n",
    "        # Used\n",
    "        listMinN.append(fltDeltaMinN * 100)\n",
    "        listMMinN.append(idxMMinN)\n",
    "        listHKLN.append(varHKLN)\n",
    "        listMN.append(mN)\n",
    "    return len(np.unique(listMMin)), sum(listMin) / len(listMin), listHKL, listMin, listM,\\\n",
    "        len(np.unique(listMMinN)), sum(listMinN) / len(listMinN), listHKLN, listMinN, listMN"
   ]
  },
  {
   "cell_type": "code",
   "execution_count": 8,
   "metadata": {
    "collapsed": true
   },
   "outputs": [],
   "source": [
    "# Load Measured Data"
   ]
  },
  {
   "cell_type": "code",
   "execution_count": 9,
   "metadata": {
    "collapsed": false
   },
   "outputs": [],
   "source": [
    "arrProbeOneRaw = np.genfromtxt('raw/probe6_1.dat', unpack=True)\n",
    "arrProbeTwoRaw = np.genfromtxt('raw/probe6_2.dat', unpack=True)\n",
    "arrSaltOne = np.genfromtxt('raw/salt1_1.dat', unpack=True)\n",
    "arrSaltTwo = np.genfromtxt('raw/salt1_2.dat', unpack=True)"
   ]
  },
  {
   "cell_type": "code",
   "execution_count": 10,
   "metadata": {
    "collapsed": true
   },
   "outputs": [],
   "source": [
    "# Build the sum of the first and second, third and forth for the probe"
   ]
  },
  {
   "cell_type": "code",
   "execution_count": 11,
   "metadata": {
    "collapsed": false
   },
   "outputs": [],
   "source": [
    "arrProbeOne = np.copy(arrProbeOneRaw[2:])\n",
    "arrProbeOne[0] = (arrProbeOneRaw[0] + arrProbeOneRaw[1]) / 2\n",
    "arrProbeOne[1] = (arrProbeOneRaw[2] + arrProbeOneRaw[3]) / 2\n",
    "arrProbeTwo = np.copy(arrProbeTwoRaw[:-2])\n",
    "arrProbeTwo[-1] = (arrProbeTwoRaw[-1] + arrProbeTwoRaw[-2]) / 2\n",
    "arrProbeTwo[-2] = (arrProbeTwoRaw[-2] + arrProbeTwoRaw[-3]) / 2"
   ]
  },
  {
   "cell_type": "code",
   "execution_count": 12,
   "metadata": {
    "collapsed": true
   },
   "outputs": [],
   "source": [
    "# Load HKL and values for calculations"
   ]
  },
  {
   "cell_type": "code",
   "execution_count": 13,
   "metadata": {
    "collapsed": false
   },
   "outputs": [],
   "source": [
    "listFileHKL = glob.glob('build/hkl_one/*')\n",
    "listDType = [\n",
    "    ('h', '<i8'),\n",
    "    ('k', '<i8'),\n",
    "    ('l', '<i8'),\n",
    "    ('m', '<f8'),\n",
    "    ('deltam', '<f8'),\n",
    "    ('d', '<f8')\n",
    "]\n",
    "listArrHKL = []\n",
    "listArrName = []\n",
    "listArrPlot = [[], []]\n",
    "\n",
    "for path in listFileHKL:\n",
    "    file = path.replace('\\\\', '/').split('/')[-1]\n",
    "    name, typ = file.split('.')\n",
    "    name = name.replace('Caesiumstruktur', 'Caesiumchlorid')\n",
    "    listArrName.append(name)\n",
    "    listArrHKL.append(np.sort(np.genfromtxt(path, dtype=listDType), order='m'))\n",
    "    listArrPlot[0].append(name)\n",
    "    listArrPlot[1].append(np.sort(np.genfromtxt(path, dtype=listDType), order='m'))\n",
    "listArrPlot[0].append('Steinsalz')\n",
    "array = np.sort(np.genfromtxt('build/hkl_two/Steinsalz_Chlor_Calcium.dat', dtype=listDType), order='m')\n",
    "listArrPlot[1].append(array[array['d'] == 20][:-16])\n",
    "listArrPlot[0].append('Caesiumchlorid')\n",
    "array = np.sort(np.genfromtxt('build/hkl_two/Caesiumstruktur_Caesium_Chlor.dat', dtype=listDType), order='m')\n",
    "listArrPlot[1].append(array[array['d'] == 0])"
   ]
  },
  {
   "cell_type": "code",
   "execution_count": 14,
   "metadata": {
    "collapsed": true
   },
   "outputs": [],
   "source": [
    "# List with the hkl values"
   ]
  },
  {
   "cell_type": "code",
   "execution_count": 15,
   "metadata": {
    "collapsed": false
   },
   "outputs": [],
   "source": [
    "listHKL = []\n",
    "for idx, arrhkl in enumerate(listArrPlot[1]):\n",
    "    listUsed = []\n",
    "    listHKL.append([])\n",
    "    for hkl in arrhkl:\n",
    "        if [hkl[0], hkl[1], hkl[2]] not in listUsed:    \n",
    "            listHKL[idx].append(r'\\text{{({0} {1} {2})}}'.format(hkl[0], hkl[1], hkl[2]))\n",
    "            listUsed.append([hkl[0], hkl[1], hkl[2]])"
   ]
  },
  {
   "cell_type": "code",
   "execution_count": 16,
   "metadata": {
    "collapsed": true
   },
   "outputs": [],
   "source": [
    "# Write table of hkl"
   ]
  },
  {
   "cell_type": "code",
   "execution_count": 17,
   "metadata": {
    "collapsed": false
   },
   "outputs": [],
   "source": [
    "with open('build/tex/hkl.tex', 'w') as f:\n",
    "    f.write(\n",
    "        table(\n",
    "            listArrPlot[0],\n",
    "            listHKL\n",
    "        )\n",
    "    )"
   ]
  },
  {
   "cell_type": "code",
   "execution_count": 18,
   "metadata": {
    "collapsed": true
   },
   "outputs": [],
   "source": [
    "# Load HKL and values for calculations for presentation"
   ]
  },
  {
   "cell_type": "code",
   "execution_count": 19,
   "metadata": {
    "collapsed": false
   },
   "outputs": [],
   "source": [
    "listDType = [\n",
    "    ('h', '<i8'),\n",
    "    ('k', '<i8'),\n",
    "    ('l', '<i8'),\n",
    "    ('m', '<f8'),\n",
    "    ('deltam', '<f8'),\n",
    "    ('d', '<f8')\n",
    "]\n",
    "idxStein = 0\n",
    "idxFluor = 1\n",
    "idxZink = 2\n",
    "idxCaes = 3\n",
    "listNames = ['Steinsalz', 'Fluorid', 'Zinkblende', 'Caesiumstruktur']\n",
    "listArrHKLTwo = []\n",
    "listArrNameTwo = []\n",
    "listArrHKLTwoSum = []\n",
    "listArrNameTwoSum = []\n",
    "\n",
    "for idx, name in enumerate(listNames):\n",
    "    listFileTwo = glob.glob('build/hkl_two/{0}*'.format(name))\n",
    "    listArrHKLTwo.append([])\n",
    "    listArrNameTwo.append([])\n",
    "\n",
    "    for path in listFileTwo:\n",
    "        file = path.replace('\\\\', '/').split('/')[-1]\n",
    "        name, typ = file.split('.')\n",
    "        name = name.replace('Caesiumstruktur', 'Caesiumchlorid')\n",
    "        listArrNameTwo[idx].append(name)\n",
    "        listArrNameTwoSum.append(name)\n",
    "        listArrHKLTwoSum.append(np.sort(np.genfromtxt(path, dtype=listDType), order='m'))\n",
    "        listArrHKLTwo[idx].append(np.sort(np.genfromtxt(path, dtype=listDType), order='m'))"
   ]
  },
  {
   "cell_type": "code",
   "execution_count": 20,
   "metadata": {
    "collapsed": true
   },
   "outputs": [],
   "source": [
    "# Create lists for output"
   ]
  },
  {
   "cell_type": "code",
   "execution_count": 21,
   "metadata": {
    "collapsed": false
   },
   "outputs": [],
   "source": [
    "listHKLTwo = []\n",
    "listHKLName = []\n",
    "intSubs = 5\n",
    "for idx, name in enumerate(listNames):\n",
    "    listHKLTwo.append([[] for i in range(5)])\n",
    "    listHKLName.append([[] for i in range(5)])\n",
    "    for idx3, nam in enumerate(listArrName):\n",
    "        if nam in name:\n",
    "            break\n",
    "    listHKLName[idx][0].append(name)\n",
    "    listHKLName[idx][1].append(name)\n",
    "    listHKLName[idx][2].append(name)\n",
    "    listHKLName[idx][3].append(name)\n",
    "    listHKLName[idx][4].append(name)\n",
    "    listHKLTwo[idx][0].append(listHKL[idx3])\n",
    "    listHKLTwo[idx][1].append(listHKL[idx3])\n",
    "    listHKLTwo[idx][2].append(listHKL[idx3])\n",
    "    listHKLTwo[idx][3].append(listHKL[idx3])\n",
    "    listHKLTwo[idx][4].append(listHKL[idx3])\n",
    "    for idx2, arrhkl in enumerate(listArrHKLTwo[idx]):\n",
    "        arrhkl = arrhkl[arrhkl['d'] == 0]\n",
    "        \n",
    "        if idx2 < len(listArrHKLTwo[idx]) * 1 / 5:\n",
    "            listHKLTwo[idx][4].append([r'\\text{{({0} {1} {2})}}'.format(hkl[0], hkl[1], hkl[2]) for hkl in arrhkl])\n",
    "            listHKLName[idx][4].append(r'{0}/{1}'.format(*listArrNameTwo[idx][idx2].split('_')[1:]))\n",
    "            \n",
    "        elif idx2 < len(listArrHKLTwo[idx]) * 2 / 5:\n",
    "            listHKLTwo[idx][3].append([r'\\text{{({0} {1} {2})}}'.format(hkl[0], hkl[1], hkl[2]) for hkl in arrhkl])\n",
    "            listHKLName[idx][3].append(r'{0}/{1}'.format(*listArrNameTwo[idx][idx2].split('_')[1:]))\n",
    "            \n",
    "        elif idx2 < len(listArrHKLTwo[idx]) * 3 / 5:\n",
    "            listHKLTwo[idx][2].append([r'\\text{{({0} {1} {2})}}'.format(hkl[0], hkl[1], hkl[2]) for hkl in arrhkl])\n",
    "            listHKLName[idx][2].append(r'{0}/{1}'.format(*listArrNameTwo[idx][idx2].split('_')[1:]))\n",
    "            \n",
    "        elif idx2 < len(listArrHKLTwo[idx]) * 4 / 5:\n",
    "            listHKLTwo[idx][1].append([r'\\text{{({0} {1} {2})}}'.format(hkl[0], hkl[1], hkl[2]) for hkl in arrhkl])\n",
    "            listHKLName[idx][1].append(r'{0}/{1}'.format(*listArrNameTwo[idx][idx2].split('_')[1:]))\n",
    "            \n",
    "        else:\n",
    "            listHKLTwo[idx][0].append([r'\\text{{({0} {1} {2})}}'.format(hkl[0], hkl[1], hkl[2]) for hkl in arrhkl])\n",
    "            listHKLName[idx][0].append(r'{0}/{1}'.format(*listArrNameTwo[idx][idx2].split('_')[1:]))"
   ]
  },
  {
   "cell_type": "code",
   "execution_count": 22,
   "metadata": {
    "collapsed": true
   },
   "outputs": [],
   "source": [
    "# Write output for hkl"
   ]
  },
  {
   "cell_type": "code",
   "execution_count": 23,
   "metadata": {
    "collapsed": false
   },
   "outputs": [],
   "source": [
    "listSuffix = ['first', 'second', 'third', 'fourth', 'fifth']\n",
    "for idx, name in enumerate(listNames):\n",
    "    for idx2, suffix in enumerate(listSuffix):\n",
    "        with open('build/tex/{0}_{1}.tex'.format(name, suffix), 'w') as f:\n",
    "            f.write(\n",
    "                table(\n",
    "                    listHKLName[idx][idx2],\n",
    "                    listHKLTwo[idx][idx2]\n",
    "                )\n",
    "            )"
   ]
  },
  {
   "cell_type": "code",
   "execution_count": 24,
   "metadata": {
    "collapsed": false
   },
   "outputs": [],
   "source": [
    "# use meter instead of mm"
   ]
  },
  {
   "cell_type": "code",
   "execution_count": 25,
   "metadata": {
    "collapsed": false
   },
   "outputs": [],
   "source": [
    "arrProbeOne *= 1e-3\n",
    "arrProbeTwo *= 1e-3\n",
    "arrSaltOne *= 1e-3\n",
    "arrSaltTwo *= 1e-3"
   ]
  },
  {
   "cell_type": "code",
   "execution_count": 26,
   "metadata": {
    "collapsed": true
   },
   "outputs": [],
   "source": [
    "# uncertainties <3"
   ]
  },
  {
   "cell_type": "code",
   "execution_count": 27,
   "metadata": {
    "collapsed": false
   },
   "outputs": [],
   "source": [
    "uarrProbeOne = unp.uarray(arrProbeOne, DELTA_LENGTH)\n",
    "uarrProbeTwo = unp.uarray(arrProbeTwo, DELTA_LENGTH)\n",
    "uarrSaltOne = unp.uarray(arrSaltOne, DELTA_LENGTH)\n",
    "uarrSaltTwo = unp.uarray(arrSaltTwo, DELTA_LENGTH)"
   ]
  },
  {
   "cell_type": "code",
   "execution_count": 28,
   "metadata": {
    "collapsed": true
   },
   "outputs": [],
   "source": [
    "# Add hole radius"
   ]
  },
  {
   "cell_type": "code",
   "execution_count": 29,
   "metadata": {
    "collapsed": true
   },
   "outputs": [],
   "source": [
    "uarrProbeOne += RADIUS_HOLE\n",
    "uarrProbeTwo += RADIUS_HOLE\n",
    "uarrSaltOne += RADIUS_HOLE\n",
    "uarrSaltTwo += RADIUS_HOLE"
   ]
  },
  {
   "cell_type": "code",
   "execution_count": 30,
   "metadata": {
    "collapsed": true
   },
   "outputs": [],
   "source": [
    "# Combination of the arrays one and two"
   ]
  },
  {
   "cell_type": "code",
   "execution_count": 31,
   "metadata": {
    "collapsed": true
   },
   "outputs": [],
   "source": [
    "uarrProbe = np.append(uarrProbeOne, 180 * 1e-3 - uarrProbeTwo)\n",
    "uarrProbeInv = np.append( 180 * 1e-3 - uarrProbeOne, uarrProbeTwo)[::-1]\n",
    "uarrSalt = np.append(uarrSaltOne, 180 * 1e-3 - uarrSaltTwo)\n",
    "uarrSaltInv = np.append(180 * 1e-3 - uarrSaltOne, uarrSaltTwo)[::-1]"
   ]
  },
  {
   "cell_type": "code",
   "execution_count": 32,
   "metadata": {
    "collapsed": true
   },
   "outputs": [],
   "source": [
    "# Winkel in rad"
   ]
  },
  {
   "cell_type": "code",
   "execution_count": 33,
   "metadata": {
    "collapsed": false
   },
   "outputs": [],
   "source": [
    "uarrThetaProbe = uarrProbe / RADIUS\n",
    "uarrThetaProbeInv = uarrProbeInv / RADIUS\n",
    "uarrThetaSalt = uarrSalt / RADIUS\n",
    "uarrThetaSaltInv = uarrSaltInv / RADIUS"
   ]
  },
  {
   "cell_type": "code",
   "execution_count": 34,
   "metadata": {
    "collapsed": true
   },
   "outputs": [],
   "source": [
    "# Measured 2 Theta, so theta is the half"
   ]
  },
  {
   "cell_type": "code",
   "execution_count": 35,
   "metadata": {
    "collapsed": true
   },
   "outputs": [],
   "source": [
    "uarrThetaProbe /= 2\n",
    "uarrThetaSalt /= 2\n",
    "uarrThetaProbeInv /= 2\n",
    "uarrThetaSaltInv /= 2"
   ]
  },
  {
   "cell_type": "code",
   "execution_count": 36,
   "metadata": {
    "collapsed": true
   },
   "outputs": [],
   "source": [
    "# Calculate Bragg"
   ]
  },
  {
   "cell_type": "code",
   "execution_count": 37,
   "metadata": {
    "collapsed": false
   },
   "outputs": [],
   "source": [
    "uarrDProbe = LAMBDA / (2 * unp.sin(uarrThetaProbe))\n",
    "uarrDSalt = LAMBDA / (2 * unp.sin(uarrThetaSalt))\n",
    "uarrDProbeInv = LAMBDA / (2 * unp.sin(uarrThetaProbeInv))\n",
    "uarrDSaltInv = LAMBDA / (2 * unp.sin(uarrThetaSaltInv))"
   ]
  },
  {
   "cell_type": "code",
   "execution_count": 38,
   "metadata": {
    "collapsed": true
   },
   "outputs": [],
   "source": [
    "# Norm D"
   ]
  },
  {
   "cell_type": "code",
   "execution_count": 39,
   "metadata": {
    "collapsed": false
   },
   "outputs": [],
   "source": [
    "uarrDNormProbe = uarrDProbe[0] / uarrDProbe\n",
    "uarrDNormSalt = uarrDSalt[0] / uarrDSalt\n",
    "uarrDNormProbeInv = uarrDProbeInv[0] / uarrDProbeInv\n",
    "uarrDNormSaltInv = uarrDSaltInv[0] / uarrDSaltInv"
   ]
  },
  {
   "cell_type": "code",
   "execution_count": 40,
   "metadata": {
    "collapsed": true
   },
   "outputs": [],
   "source": [
    "# Lists of measured data"
   ]
  },
  {
   "cell_type": "code",
   "execution_count": 41,
   "metadata": {
    "collapsed": true
   },
   "outputs": [],
   "source": [
    "listData = [\n",
    "    [\n",
    "        uarrSalt * 1e3,\n",
    "        uarrThetaSalt * 360 / np.pi,\n",
    "        uarrThetaSalt * 180 / np.pi,\n",
    "        uarrDSalt * 1e10\n",
    "    ],\n",
    "    [\n",
    "        uarrSaltInv * 1e3,\n",
    "        uarrThetaSaltInv * 360 / np.pi,\n",
    "        uarrThetaSaltInv * 180 / np.pi,\n",
    "        uarrDSaltInv * 1e10\n",
    "    ],\n",
    "    [\n",
    "        uarrProbe * 1e3,\n",
    "        uarrThetaProbe * 360 / np.pi,\n",
    "        uarrThetaProbe * 180 / np.pi,\n",
    "        uarrDProbe * 1e10\n",
    "    ],\n",
    "    [\n",
    "        uarrProbeInv * 1e3,\n",
    "        uarrThetaProbeInv * 360 / np.pi,\n",
    "        uarrThetaProbeInv * 180 / np.pi,\n",
    "        uarrDProbeInv * 1e10\n",
    "    ]\n",
    "]\n",
    "listDataNames = [\n",
    "    'data_salt',\n",
    "    'data_salt_inv',\n",
    "    'data_probe',\n",
    "    'data_probe_inv'\n",
    "]"
   ]
  },
  {
   "cell_type": "code",
   "execution_count": 42,
   "metadata": {
    "collapsed": true
   },
   "outputs": [],
   "source": [
    "# Write Table of measured data"
   ]
  },
  {
   "cell_type": "code",
   "execution_count": 43,
   "metadata": {
    "collapsed": false
   },
   "outputs": [],
   "source": [
    "for name, lists in zip(listDataNames, listData):\n",
    "    with open('build/tex/{0}.tex'.format(name), 'w') as f:\n",
    "        f.write(\n",
    "                table(\n",
    "                    [\n",
    "                        r'$s\\,/\\,\\si{\\milli\\meter}$',\n",
    "                        r\"$\\Theta'\\,/\\,\\si{\\degree}$\",\n",
    "                        r'$\\Theta\\,/\\,\\si{\\degree}$',\n",
    "                        r'$d\\,/\\,\\si{\\angstrom}$'\n",
    "                    ],\n",
    "                    [\n",
    "                        lists[0],\n",
    "                        lists[1],\n",
    "                        lists[2],\n",
    "                        lists[3]\n",
    "                    ]\n",
    "                    )\n",
    "                )"
   ]
  },
  {
   "cell_type": "code",
   "execution_count": 44,
   "metadata": {
    "collapsed": true
   },
   "outputs": [],
   "source": [
    "# Compare D Values to the values of HKL for probe"
   ]
  },
  {
   "cell_type": "code",
   "execution_count": 45,
   "metadata": {
    "collapsed": false
   },
   "outputs": [],
   "source": [
    "listDType = [\n",
    "    ('name', np.str_, 200),\n",
    "    ('uniquem', '<f8'),\n",
    "    ('average', 'O'),\n",
    "    ('difference', 'O'),\n",
    "    ('dm', 'O'),\n",
    "    ('hkl', 'O')\n",
    "]\n",
    "arrProbeDiff = np.empty(len(listArrHKL), dtype=listDType)\n",
    "arrSaltDiff = np.empty(len(listArrHKLTwoSum), dtype=listDType)\n",
    "arrProbeDiffInv = np.empty(len(listArrHKL), dtype=listDType)\n",
    "arrSaltDiffInv = np.empty(len(listArrHKLTwoSum), dtype=listDType)\n",
    "arrProbeDiffN = np.empty(len(listArrHKL), dtype=listDType)\n",
    "arrSaltDiffN = np.empty(len(listArrHKLTwoSum), dtype=listDType)\n",
    "arrProbeDiffInvN = np.empty(len(listArrHKL), dtype=listDType)\n",
    "arrSaltDiffInvN = np.empty(len(listArrHKLTwoSum), dtype=listDType)\n",
    "\n",
    "for idxProbe, array, name in zip(range(len(listArrHKL)), listArrHKL, listArrName):\n",
    "    # Probe\n",
    "    values = _calculate_difference(array, uarrDProbe, uarrDNormProbe)\n",
    "    arrProbeDiff[idxProbe]['name'] = r'\\text{{{}}}'.format(name)\n",
    "    arrProbeDiff[idxProbe]['uniquem'] = values[0]\n",
    "    arrProbeDiff[idxProbe]['average'] = values[1]\n",
    "    arrProbeDiff[idxProbe]['hkl'] = values[2]\n",
    "    arrProbeDiff[idxProbe]['difference'] = values[3]\n",
    "    arrProbeDiff[idxProbe]['dm'] = values[4]\n",
    "    arrProbeDiffN[idxProbe]['name'] = r'\\text{{{}}}'.format(name)\n",
    "    arrProbeDiffN[idxProbe]['uniquem'] = values[5]\n",
    "    arrProbeDiffN[idxProbe]['average'] = values[6]\n",
    "    arrProbeDiffN[idxProbe]['hkl'] = values[7]\n",
    "    arrProbeDiffN[idxProbe]['difference'] = values[8]\n",
    "    arrProbeDiffN[idxProbe]['dm'] = values[9]\n",
    "    # Probe Inv\n",
    "    values = _calculate_difference(array, uarrDProbeInv, uarrDNormProbeInv)\n",
    "    arrProbeDiffInv[idxProbe]['name'] = r'\\text{{{}}}'.format(name)\n",
    "    arrProbeDiffInv[idxProbe]['uniquem'] = values[0]\n",
    "    arrProbeDiffInv[idxProbe]['average'] = values[1]\n",
    "    arrProbeDiffInv[idxProbe]['hkl'] = values[2]\n",
    "    arrProbeDiffInv[idxProbe]['difference'] = values[3]\n",
    "    arrProbeDiffInv[idxProbe]['dm'] = values[4]\n",
    "    arrProbeDiffInvN[idxProbe]['name'] = r'\\text{{{}}}'.format(name)\n",
    "    arrProbeDiffInvN[idxProbe]['uniquem'] = values[5]\n",
    "    arrProbeDiffInvN[idxProbe]['average'] = values[6]\n",
    "    arrProbeDiffInvN[idxProbe]['hkl'] = values[7]\n",
    "    arrProbeDiffInvN[idxProbe]['difference'] = values[8]\n",
    "    arrProbeDiffInvN[idxProbe]['dm'] = values[9]\n",
    "\n",
    "for idxSalt, array, name in zip(range(len(listArrHKLTwoSum)), listArrHKLTwoSum, listArrNameTwoSum):\n",
    "    # Salt\n",
    "    values = _calculate_difference(array, uarrDSalt, uarrDNormSalt)\n",
    "    arrSaltDiff[idxSalt]['name'] = r'\\text{{{}}}'.format(name)\n",
    "    arrSaltDiff[idxSalt]['uniquem'] = values[0]\n",
    "    arrSaltDiff[idxSalt]['average'] = values[1]\n",
    "    arrSaltDiff[idxSalt]['hkl'] = values[2]\n",
    "    arrSaltDiff[idxSalt]['difference'] = values[3]\n",
    "    arrSaltDiff[idxSalt]['dm'] = values[4]\n",
    "    arrSaltDiffN[idxSalt]['name'] = r'\\text{{{}}}'.format(name)\n",
    "    arrSaltDiffN[idxSalt]['uniquem'] = values[5]\n",
    "    arrSaltDiffN[idxSalt]['average'] = values[6]\n",
    "    arrSaltDiffN[idxSalt]['hkl'] = values[7]\n",
    "    arrSaltDiffN[idxSalt]['difference'] = values[8]\n",
    "    arrSaltDiffN[idxSalt]['dm'] = values[9]\n",
    "    # Salt Inv\n",
    "    values = _calculate_difference(array, uarrDSaltInv, uarrDNormSaltInv)\n",
    "    arrSaltDiffInv[idxSalt]['name'] = r'\\text{{{}}}'.format(name)\n",
    "    arrSaltDiffInv[idxSalt]['uniquem'] = values[0]\n",
    "    arrSaltDiffInv[idxSalt]['average'] = values[1]\n",
    "    arrSaltDiffInv[idxSalt]['hkl'] = values[2]\n",
    "    arrSaltDiffInv[idxSalt]['difference'] = values[3]\n",
    "    arrSaltDiffInv[idxSalt]['dm'] = values[4]\n",
    "    arrSaltDiffInvN[idxSalt]['name'] = r'\\text{{{}}}'.format(name)\n",
    "    arrSaltDiffInvN[idxSalt]['uniquem'] = values[5]\n",
    "    arrSaltDiffInvN[idxSalt]['average'] = values[6]\n",
    "    arrSaltDiffInvN[idxSalt]['hkl'] = values[7]\n",
    "    arrSaltDiffInvN[idxSalt]['difference'] = values[8]\n",
    "    arrSaltDiffInvN[idxSalt]['dm'] = values[9]"
   ]
  },
  {
   "cell_type": "code",
   "execution_count": 46,
   "metadata": {
    "collapsed": false
   },
   "outputs": [],
   "source": [
    "# Calculate best 10 matches and write Output Tex data"
   ]
  },
  {
   "cell_type": "code",
   "execution_count": 47,
   "metadata": {
    "collapsed": false
   },
   "outputs": [],
   "source": [
    "listArrDiff = [\n",
    "    arrProbeDiffN, arrProbeDiffInvN,\n",
    "    arrSaltDiffN, arrSaltDiffInvN\n",
    "    ]\n",
    "listNameDiff = [\n",
    "    'arrProbeDiffN', 'arrProbeDiffInvN',\n",
    "    'arrSaltDiffN', 'arrSaltDiffInvN'\n",
    "]\n",
    "listDType = [\n",
    "    ('name', np.str_, 200),\n",
    "    ('uniquem', '<f8'),\n",
    "    ('average', 'O'),\n",
    "    ('difference', 'O'),\n",
    "    ('dm', 'O'),\n",
    "    ('hkl', 'O')\n",
    "]\n",
    "\n",
    "listLaticeAll = []\n",
    "listThetaAll = []\n",
    "listSqrtMAll = []\n",
    "listNumberTable = []\n",
    "\n",
    "for number, array, name in zip(range(len(listArrDiff)), listArrDiff, listNameDiff):\n",
    "    arrUniqueM = np.unique(array['uniquem'])[::-1]\n",
    "    if number < 2:\n",
    "        arrTopTen = np.empty(4, dtype=listDType)\n",
    "    else:\n",
    "        arrTopTen = np.empty(4, dtype=listDType)\n",
    "    index = 0\n",
    "    arrNum = array[array['uniquem'] == arrUniqueM[0]]\n",
    "    arrSort = np.sort(arrNum, order='average')\n",
    "    for row in arrSort:\n",
    "        for idx, element in enumerate(row):\n",
    "            arrTopTen[index][idx] = element\n",
    "        index += 1\n",
    "        if index >= 4:\n",
    "            break\n",
    "        elif index >= 4 and number < 2:\n",
    "            break\n",
    "            \n",
    "    listNumberTable.append(arrTopTen['name'])\n",
    "    if number == 0:\n",
    "        arrDNorm = uarrDNormProbe\n",
    "        arrD = uarrDProbe\n",
    "        arrTheta = uarrThetaProbe\n",
    "    elif number == 1:\n",
    "        arrDNorm = uarrDNormProbeInv\n",
    "        arrD = uarrDProbeInv\n",
    "        arrTheta = uarrThetaProbeInv\n",
    "    elif number == 2:\n",
    "        arrDNorm = uarrDNormSalt\n",
    "        arrD = uarrDSalt\n",
    "        arrTheta = uarrThetaSalt\n",
    "    else:\n",
    "        arrDNorm = uarrDNormSaltInv\n",
    "        arrD = uarrDSaltInv\n",
    "        arrTheta = uarrThetaSaltInv\n",
    "\n",
    "    with open('build/tex/{0}.tex'.format(name), 'w') as f:\n",
    "        f.write(\n",
    "            table(\n",
    "                [\n",
    "                    r'Kristallstruktur',\n",
    "                    r'$\\bar{\\Delta}\\,/\\,\\si{\\percent}$'\n",
    "                ],\n",
    "                [\n",
    "                    arrTopTen['name'],\n",
    "                    arrTopTen['average']\n",
    "                    ]\n",
    "                )\n",
    "            )\n",
    "    listHKL = [[] for i in range(4)]\n",
    "    listM = [[] for i in range(4)]\n",
    "    listHDiff = [[] for i in range(4)]\n",
    "    listD = [[] for i in range(4)]\n",
    "    listDNorm = [[] for i in range(4)]\n",
    "    listTheta = [[] for i in range(4)]\n",
    "    listA = [[] for i in range(4)]\n",
    "    listSqrtM = [[] for i in range(4)]\n",
    "    listCos = [[] for i in range(4)]\n",
    "    for idx in range(4):\n",
    "        nameCheck = arrTopTen['name'][idx].replace('\\\\text{', '').replace('}', '')\n",
    "        hkl = arrTopTen['hkl'][idx]\n",
    "        m = arrTopTen['dm'][idx]\n",
    "        diff = arrTopTen['difference'][idx]\n",
    "        listUsed = []        \n",
    "        if number < 2:\n",
    "            listForNum = listArrName\n",
    "        else:\n",
    "            listForNum = listArrNameTwoSum\n",
    "        for num, nameArr in enumerate(listForNum):\n",
    "            if nameArr == nameCheck:\n",
    "                break\n",
    "        if number < 2:\n",
    "            listForSearch = listArrHKL[num]\n",
    "        else:\n",
    "            listForSearch = listArrHKLTwoSum[num]\n",
    "        listForSearchHKL = []\n",
    "        for arrHKL in listForSearch:\n",
    "            if [arrHKL['h'], arrHKL['k'], arrHKL['l']] not in listForSearchHKL:\n",
    "                listForSearchHKL.append([arrHKL['h'], arrHKL['k'], arrHKL['l']])\n",
    "        for arrHKL in listForSearchHKL:\n",
    "            for nums, count in enumerate(hkl):\n",
    "                varNotInList = False\n",
    "                if count not in listUsed:\n",
    "                    if count == arrHKL:\n",
    "                        listUsed.append(count)\n",
    "                        listHKL[idx].append(r'\\text{{({0} {1} {2})}}'.format(count[0], count[1], count[2]))\n",
    "                        listM[idx].append(m[nums])\n",
    "                        listHDiff[idx].append(diff[nums])\n",
    "                        listD[idx].append(arrD[nums]*1e10)\n",
    "                        listDNorm[idx].append(arrDNorm[nums])\n",
    "                        listTheta[idx].append(arrTheta[nums] * 180 / np.pi)\n",
    "                        listCos[idx].append(unp.cos(arrTheta[nums])**2)\n",
    "                        sqrtm = np.sqrt(count[0]**2 + count[1]**2 + count[2]**2)\n",
    "                        listSqrtM[idx].append(sqrtm)\n",
    "                        listA[idx].append(arrD[nums] * sqrtm * 1e10)\n",
    "                        varNotInList = False\n",
    "                        break\n",
    "                    else:\n",
    "                        varNotInList = True\n",
    "            if len(listUsed) == len(hkl):\n",
    "                break\n",
    "            if varNotInList:\n",
    "                listHKL[idx].append(r'\\text{{({0} {1} {2})}}'.format(arrHKL[0], arrHKL[1], arrHKL[2]))\n",
    "                listM[idx].append('')\n",
    "                listCos[idx].append('')\n",
    "                listHDiff[idx].append('')\n",
    "                listD[idx].append('')\n",
    "                listDNorm[idx].append('')\n",
    "                listTheta[idx].append('')\n",
    "                listA[idx].append('')\n",
    "                listSqrtM[idx].append('')\n",
    "    listLaticeAll.append(listA)\n",
    "    listThetaAll.append(listTheta)\n",
    "    listSqrtMAll.append(listSqrtM)\n",
    "    \n",
    "    with open('build/tex/{0}_first_one.tex'.format(name), 'w') as f:\n",
    "        f.write(\n",
    "            table(\n",
    "                [\n",
    "                    r'hkl',\n",
    "                    r'$\\frac{d_1}{d_i}$',\n",
    "                    r'$\\sqrt{{\\frac{{m_i}}{{m_1}}}}$',\n",
    "                    r'$\\Delta\\,/\\si{{\\percent}}$'\n",
    "                ],\n",
    "                [\n",
    "                    listHKL[0],\n",
    "                    listDNorm[0],\n",
    "                    listM[0],\n",
    "                    listHDiff[0]\n",
    "                ]                \n",
    "            )\n",
    "        )\n",
    "    with open('build/tex/{0}_first_two.tex'.format(name), 'w') as f:\n",
    "        f.write(\n",
    "            table(\n",
    "                [\n",
    "                    r'hkl',\n",
    "                    r'$d_i\\,/\\,\\si{\\angstrom}$',\n",
    "                    r'$\\sqrt{m}$',\n",
    "                    r'$\\Theta\\,/\\,\\si{\\degree}$',\n",
    "                    r'$\\cos^2{(\\Theta)}$',\n",
    "                    r'$a\\,/\\,\\si{\\angstrom}$'\n",
    "                ],\n",
    "                [\n",
    "                    listHKL[0],\n",
    "                    listD[0],\n",
    "                    listSqrtM[0],\n",
    "                    listTheta[0],\n",
    "                    listCos[0],\n",
    "                    listA[0]\n",
    "                ]                \n",
    "            )\n",
    "        )\n",
    "    with open('build/tex/{0}_second_one.tex'.format(name), 'w') as f:\n",
    "        f.write(\n",
    "            table(\n",
    "                [\n",
    "                    r'hkl',\n",
    "                    r'$\\frac{d_1}{d_i}$',\n",
    "                    r'$\\sqrt{{\\frac{{m_i}}{{m_1}}}}$',\n",
    "                    r'$\\Delta\\,/\\si{{\\percent}}$'\n",
    "                ],\n",
    "                [\n",
    "                    listHKL[1],\n",
    "                    listDNorm[1],\n",
    "                    listM[1],\n",
    "                    listHDiff[1]\n",
    "                ]\n",
    "                \n",
    "            )\n",
    "        )\n",
    "    with open('build/tex/{0}_second_two.tex'.format(name), 'w') as f:\n",
    "        f.write(\n",
    "            table(\n",
    "                [\n",
    "                    r'hkl',\n",
    "                    r'$d_i\\,/\\,\\si{\\angstrom}$',\n",
    "                    r'$\\sqrt{m}$',\n",
    "                    r'$\\Theta\\,/\\,\\si{\\degree}$',\n",
    "                    r'$\\cos^2{(\\Theta)}$',\n",
    "                    r'$a\\,/\\,\\si{\\angstrom}$'\n",
    "                ],\n",
    "                [\n",
    "                    listHKL[1],\n",
    "                    listD[1],\n",
    "                    listSqrtM[1],\n",
    "                    listTheta[1],\n",
    "                    listCos[1],\n",
    "                    listA[1]\n",
    "                ]\n",
    "                \n",
    "            )\n",
    "        )\n",
    "    with open('build/tex/{0}_third_one.tex'.format(name), 'w') as f:\n",
    "        f.write(\n",
    "            table(\n",
    "                [\n",
    "                    r'hkl',\n",
    "                    r'$\\frac{d_1}{d_i}$',\n",
    "                    r'$\\sqrt{{\\frac{{m_i}}{{m_1}}}}$',\n",
    "                    r'$\\Delta\\,/\\si{{\\percent}}$'\n",
    "                ],\n",
    "                [\n",
    "                    listHKL[2],\n",
    "                    listDNorm[2],\n",
    "                    listM[2],\n",
    "                    listHDiff[2]\n",
    "                ]\n",
    "                \n",
    "            )\n",
    "        )\n",
    "    with open('build/tex/{0}_third_two.tex'.format(name), 'w') as f:\n",
    "        f.write(\n",
    "            table(\n",
    "                [\n",
    "                    r'hkl',\n",
    "                    r'$d_i\\,/\\,\\si{\\angstrom}$',\n",
    "                    r'$\\sqrt{m}$',\n",
    "                    r'$\\Theta\\,/\\,\\si{\\degree}$',\n",
    "                    r'$\\cos^2{(\\Theta)}$',\n",
    "                    r'$a\\,/\\,\\si{\\angstrom}$'\n",
    "                ],\n",
    "                [\n",
    "                    listHKL[2],\n",
    "                    listD[2],\n",
    "                    listSqrtM[2],\n",
    "                    listTheta[2],\n",
    "                    listCos[2],\n",
    "                    listA[2]\n",
    "                ]\n",
    "                \n",
    "            )\n",
    "        )\n",
    "    with open('build/tex/{0}_fourth_one.tex'.format(name), 'w') as f:\n",
    "        f.write(\n",
    "            table(\n",
    "                [\n",
    "                    r'hkl',\n",
    "                    r'$\\frac{d_1}{d_i}$',\n",
    "                    r'$\\sqrt{{\\frac{{m_i}}{{m_1}}}}$',\n",
    "                    r'$\\Delta\\,/\\si{{\\percent}}$'\n",
    "                ],\n",
    "                [\n",
    "                    listHKL[3],\n",
    "                    listDNorm[3],\n",
    "                    listM[3],\n",
    "                    listHDiff[3]\n",
    "                ]\n",
    "                \n",
    "            )\n",
    "        )\n",
    "    with open('build/tex/{0}_fourth_two.tex'.format(name), 'w') as f:\n",
    "        f.write(\n",
    "            table(\n",
    "                [\n",
    "                    r'hkl',\n",
    "                    r'$d_i\\,/\\,\\si{\\angstrom}$',\n",
    "                    r'$\\sqrt{m}$',\n",
    "                    r'$\\Theta\\,/\\,\\si{\\degree}$',\n",
    "                    r'$\\cos^2{(\\Theta)}$',\n",
    "                    r'$a\\,/\\,\\si{\\angstrom}$'\n",
    "                ],\n",
    "                [\n",
    "                    listHKL[3],\n",
    "                    listD[3],\n",
    "                    listSqrtM[3],\n",
    "                    listTheta[3],\n",
    "                    listCos[3],\n",
    "                    listA[3]\n",
    "                ]\n",
    "                \n",
    "            )\n",
    "        )"
   ]
  },
  {
   "cell_type": "code",
   "execution_count": 48,
   "metadata": {
    "collapsed": true
   },
   "outputs": [],
   "source": [
    "# Calculate latice constant"
   ]
  },
  {
   "cell_type": "code",
   "execution_count": 49,
   "metadata": {
    "collapsed": false,
    "scrolled": false
   },
   "outputs": [
    {
     "data": {
      "text/plain": [
       "<matplotlib.figure.Figure at 0x26076a2dc88>"
      ]
     },
     "metadata": {},
     "output_type": "display_data"
    }
   ],
   "source": [
    "listNumber = ['first', 'second', 'third', 'fourth']\n",
    "listName = [r'Probe,1', r'Probe,2', r'Salz,1', r'Salz,2']\n",
    "for latice, theta, name, top, probe in zip(listLaticeAll, listThetaAll, listNameDiff, listNumberTable, listName):\n",
    "    listM = []\n",
    "    listB = []\n",
    "    listA = []\n",
    "    for lat, the, num in zip(latice, theta, listNumber):\n",
    "        angle = [np.cos(entry.nominal_value * np.pi / 180)**2 for entry in the if isinstance(entry, uncertainties.core.AffineScalarFunc)]\n",
    "        number = [entry.nominal_value for entry in lat if isinstance(entry, uncertainties.core.AffineScalarFunc)]\n",
    "\n",
    "        popt, pcov = optimize.curve_fit(func, angle, number)\n",
    "        x = np.linspace(0, 1, 1e5)\n",
    "        \n",
    "        listM.append(ufloat(popt[0], pcov[0][0]))\n",
    "        listB.append(ufloat(popt[1], pcov[1][1]))\n",
    "        listA.append(ufloat(popt[1], pcov[1][1]))\n",
    "        \n",
    "        plt.plot(angle, number, 'ko', label=r'Messwerte', markersize=10)\n",
    "        plt.plot(x, func(x, *popt), 'r-', label=r'Regressionsgerade $f(x) = c \\cdot x + b$'.format(probe))\n",
    "        plt.xlabel(r'$\\cos^2{(\\Theta)}$', fontsize=16)\n",
    "        plt.ylabel(r'Gitterkonstante / $\\AA$', fontsize=16)\n",
    "        plt.legend(loc='best')\n",
    "        plt.xlim([0, 1])\n",
    "        plt.savefig('build/pic/{0}_{1}.pdf'.format(name, num))\n",
    "        plt.clf()\n",
    "    \n",
    "    with open('build/tex/{0}_fit.tex'.format(name), 'w') as f:\n",
    "        f.write(\n",
    "            table(\n",
    "                [\n",
    "                    r'',\n",
    "                    r'$c_\\text{{{0}}}\\,/\\,\\si{{1\\per\\angstrom}}$'.format(probe),\n",
    "                    r'$b\\,/\\,\\si{\\angstrom}$',\n",
    "                    r'$a\\,/\\,\\si{\\angstrom}$'\n",
    "                ],\n",
    "                [\n",
    "                    top,\n",
    "                    listM,\n",
    "                    listB,\n",
    "                    listA\n",
    "                ]\n",
    "            )\n",
    "        )"
   ]
  }
 ],
 "metadata": {
  "kernelspec": {
   "display_name": "Python 3",
   "language": "python",
   "name": "python3"
  },
  "language_info": {
   "codemirror_mode": {
    "name": "ipython",
    "version": 3
   },
   "file_extension": ".py",
   "mimetype": "text/x-python",
   "name": "python",
   "nbconvert_exporter": "python",
   "pygments_lexer": "ipython3",
   "version": "3.5.1"
  }
 },
 "nbformat": 4,
 "nbformat_minor": 0
}
